{
 "cells": [
  {
   "cell_type": "code",
   "execution_count": 1,
   "metadata": {},
   "outputs": [],
   "source": [
    "import cv2\n",
    "import numpy as np\n",
    "import PIL\n",
    "from PIL import Image"
   ]
  },
  {
   "cell_type": "code",
   "execution_count": 13,
   "metadata": {},
   "outputs": [],
   "source": [
    "panorama = cv2.imread(\"image_test/a_b.png\",cv2.COLOR_BGR2GRAY)\n",
    "image = cv2.imread(\"image_test/b.png\",cv2.COLOR_BGR2GRAY)\n",
    "img2 = cv2.imread(\"image_test/a.png\",cv2.COLOR_BGR2GRAY)"
   ]
  },
  {
   "cell_type": "code",
   "execution_count": 3,
   "metadata": {},
   "outputs": [],
   "source": [
    "# 使用 SIFT 特征检测器和匹配器\n",
    "sift = cv2.SIFT_create()\n",
    "\n",
    "# 在全景图和图像中检测特征点和计算特征描述符\n",
    "keypoints_panorama, descriptors_panorama = sift.detectAndCompute(panorama, None)\n",
    "keypoints_image, descriptors_image = sift.detectAndCompute(image, None)\n",
    "\n",
    "# 使用匹配器来匹配特征点\n",
    "matcher = cv2.BFMatcher()\n",
    "matches = matcher.knnMatch(descriptors_panorama, descriptors_image, k=2)\n",
    "\n",
    "# 应用 Lowe's 比率测试来筛选匹配\n",
    "good_matches = []\n",
    "for m, n in matches:\n",
    "    if m.distance < 0.5 * n.distance:\n",
    "        good_matches.append(m)\n",
    "\n",
    "# 提取匹配的关键点\n",
    "matched_keypoints_panorama = [keypoints_panorama[match.queryIdx] for match in good_matches]\n",
    "matched_keypoints_image = [keypoints_image[match.trainIdx] for match in good_matches]"
   ]
  },
  {
   "cell_type": "code",
   "execution_count": 16,
   "metadata": {},
   "outputs": [
    {
     "name": "stdout",
     "output_type": "stream",
     "text": [
      "23 52 191 216\n",
      "0 0 707 433\n",
      "283 168 683 237\n",
      "200.75392670157066 110.94444444444446 2528.17277486911 475.09722222222223\n",
      "(433, 1338, 3)\n",
      "(433, 707, 3)\n",
      "(432, 631, 3)\n"
     ]
    }
   ],
   "source": [
    "# 获取匹配关键点的坐标\n",
    "panorama_pts = np.float32([kp.pt for kp in matched_keypoints_panorama])\n",
    "image_pts = np.float32([kp.pt for kp in matched_keypoints_image])\n",
    "# 1 is feature 2 is image\n",
    "x1, y1, w1, h1 = cv2.boundingRect(image_pts)\n",
    "h2, w2 = image.shape[:2] \n",
    "x2 = 0\n",
    "y2 = 0\n",
    "\n",
    "lr = (x1-x2)/w1\n",
    "ur = (y1-y2)/h1\n",
    "der = h2/h1\n",
    "rer = w2/w1\n",
    "#3 is feature pano  4 is real area\n",
    "x3, y3, w3, h3 = cv2.boundingRect(panorama_pts)\n",
    "x4 = x3-w3*lr\n",
    "y4 = y3-h3*ur\n",
    "w4 = w3*rer\n",
    "h4 = h3*der\n",
    "\n",
    "# 创建一个空白 mask 图像\n",
    "mask = np.zeros_like(panorama, dtype=np.uint8)\n",
    "mask = mask.astype(np.uint8)  # 确保 mask 是 uint8 类型的 NumPy 数组\n",
    "# 在 mask 区域内填充白色\n",
    "p4 = np.array([[x4, y4], [x4 + w4, y4], [x4 + w4, y4 + h4], [x4, y4 + h4]],dtype=np.int32)\n",
    "\n",
    "cv2.fillPoly(mask, [p4], (255,255,255))\n",
    "# 将 NumPy 数组转换为 Pillow 图像\n",
    "mask_pillow = Image.fromarray(mask)\n",
    "print(x1, y1, w1, h1)\n",
    "print(x2,y2,w2,h2)\n",
    "print(x3, y3, w3, h3)\n",
    "print(x4,y4,w4,h4)\n",
    "print(panorama.shape)\n",
    "print(image.shape)\n",
    "print(img2.shape)\n",
    "# 显示 Pillow 图像（可选）\n",
    "mask_pillow.show()"
   ]
  },
  {
   "cell_type": "code",
   "execution_count": 20,
   "metadata": {},
   "outputs": [],
   "source": [
    "non_zero_indices = np.where(mask > 0)\n",
    "masked_image1 = np.zeros_like(panorama)\n",
    "# mask1==0的位置保留image1值\n",
    "masked_image1[mask != 0] = panorama[mask != 0]\n",
    "# cv2.imshow(\"Result\", result)\n",
    "pillow_image = Image.fromarray(cv2.cvtColor(masked_image1, cv2.COLOR_BGR2RGB))\n",
    "pillow_image.show()"
   ]
  },
  {
   "cell_type": "code",
   "execution_count": 13,
   "metadata": {},
   "outputs": [
    {
     "ename": "IndexError",
     "evalue": "index 2728 is out of bounds for axis 0 with size 433",
     "output_type": "error",
     "traceback": [
      "\u001b[1;31m---------------------------------------------------------------------------\u001b[0m",
      "\u001b[1;31mIndexError\u001b[0m                                Traceback (most recent call last)",
      "\u001b[1;32md:\\桌面\\image_stitch\\unstitch.ipynb 单元格 6\u001b[0m line \u001b[0;36m1\n\u001b[1;32m----> <a href='vscode-notebook-cell:/d%3A/%E6%A1%8C%E9%9D%A2/image_stitch/unstitch.ipynb#X10sZmlsZQ%3D%3D?line=0'>1</a>\u001b[0m mask_part \u001b[39m=\u001b[39m panorama[p4]\n\u001b[0;32m      <a href='vscode-notebook-cell:/d%3A/%E6%A1%8C%E9%9D%A2/image_stitch/unstitch.ipynb#X10sZmlsZQ%3D%3D?line=1'>2</a>\u001b[0m a \u001b[39m=\u001b[39m Image\u001b[39m.\u001b[39mfromarray(mask_part)\n\u001b[0;32m      <a href='vscode-notebook-cell:/d%3A/%E6%A1%8C%E9%9D%A2/image_stitch/unstitch.ipynb#X10sZmlsZQ%3D%3D?line=2'>3</a>\u001b[0m a\u001b[39m.\u001b[39mshow()\n",
      "\u001b[1;31mIndexError\u001b[0m: index 2728 is out of bounds for axis 0 with size 433"
     ]
    }
   ],
   "source": [
    "mask_part = panorama[p4]\n",
    "a = Image.fromarray(mask_part)\n",
    "a.show()"
   ]
  },
  {
   "cell_type": "code",
   "execution_count": null,
   "metadata": {},
   "outputs": [],
   "source": [
    "import cv2      \n",
    "import numpy as np\n",
    "from PIL import Image      \n",
    "# 创建一个黑色背景的图像      \n",
    "img = np.zeros((500, 500, 3), dtype=np.uint8)      \n",
    "# 在图像上绘制一个红色的三角形      \n",
    "pts = np.array([[100, 100], [300, 100], [200, 300]])    \n",
    "cv2.fillPoly(img, [pts], (0, 0, 255))      \n",
    "# 显示图像   \n",
    "pillow_image = Image.fromarray(cv2.cvtColor(img, cv2.COLOR_BGR2RGB))\n",
    "pillow_image.show()"
   ]
  },
  {
   "cell_type": "code",
   "execution_count": null,
   "metadata": {},
   "outputs": [
    {
     "ename": "TypeError",
     "evalue": "Cannot handle this data type: (1, 1, 1338, 3), |u1",
     "output_type": "error",
     "traceback": [
      "\u001b[1;31m---------------------------------------------------------------------------\u001b[0m",
      "\u001b[1;31mKeyError\u001b[0m                                  Traceback (most recent call last)",
      "File \u001b[1;32md:\\Python\\envs\\test\\lib\\site-packages\\PIL\\Image.py:3070\u001b[0m, in \u001b[0;36mfromarray\u001b[1;34m(obj, mode)\u001b[0m\n\u001b[0;32m   3069\u001b[0m \u001b[39mtry\u001b[39;00m:\n\u001b[1;32m-> 3070\u001b[0m     mode, rawmode \u001b[39m=\u001b[39m _fromarray_typemap[typekey]\n\u001b[0;32m   3071\u001b[0m \u001b[39mexcept\u001b[39;00m \u001b[39mKeyError\u001b[39;00m \u001b[39mas\u001b[39;00m e:\n",
      "\u001b[1;31mKeyError\u001b[0m: ((1, 1, 1338, 3), '|u1')",
      "\nThe above exception was the direct cause of the following exception:\n",
      "\u001b[1;31mTypeError\u001b[0m                                 Traceback (most recent call last)",
      "\u001b[1;32md:\\桌面\\image_stitch\\unstitch.ipynb 单元格 8\u001b[0m line \u001b[0;36m2\n\u001b[0;32m      <a href='vscode-notebook-cell:/d%3A/%E6%A1%8C%E9%9D%A2/image_stitch/unstitch.ipynb#X12sZmlsZQ%3D%3D?line=0'>1</a>\u001b[0m mask_part \u001b[39m=\u001b[39m panorama[pts]\n\u001b[1;32m----> <a href='vscode-notebook-cell:/d%3A/%E6%A1%8C%E9%9D%A2/image_stitch/unstitch.ipynb#X12sZmlsZQ%3D%3D?line=1'>2</a>\u001b[0m a \u001b[39m=\u001b[39m Image\u001b[39m.\u001b[39;49mfromarray(mask_part)\n\u001b[0;32m      <a href='vscode-notebook-cell:/d%3A/%E6%A1%8C%E9%9D%A2/image_stitch/unstitch.ipynb#X12sZmlsZQ%3D%3D?line=2'>3</a>\u001b[0m a\u001b[39m.\u001b[39mshow()\n",
      "File \u001b[1;32md:\\Python\\envs\\test\\lib\\site-packages\\PIL\\Image.py:3073\u001b[0m, in \u001b[0;36mfromarray\u001b[1;34m(obj, mode)\u001b[0m\n\u001b[0;32m   3071\u001b[0m     \u001b[39mexcept\u001b[39;00m \u001b[39mKeyError\u001b[39;00m \u001b[39mas\u001b[39;00m e:\n\u001b[0;32m   3072\u001b[0m         msg \u001b[39m=\u001b[39m \u001b[39m\"\u001b[39m\u001b[39mCannot handle this data type: \u001b[39m\u001b[39m%s\u001b[39;00m\u001b[39m, \u001b[39m\u001b[39m%s\u001b[39;00m\u001b[39m\"\u001b[39m \u001b[39m%\u001b[39m typekey\n\u001b[1;32m-> 3073\u001b[0m         \u001b[39mraise\u001b[39;00m \u001b[39mTypeError\u001b[39;00m(msg) \u001b[39mfrom\u001b[39;00m \u001b[39me\u001b[39;00m\n\u001b[0;32m   3074\u001b[0m \u001b[39melse\u001b[39;00m:\n\u001b[0;32m   3075\u001b[0m     rawmode \u001b[39m=\u001b[39m mode\n",
      "\u001b[1;31mTypeError\u001b[0m: Cannot handle this data type: (1, 1, 1338, 3), |u1"
     ]
    }
   ],
   "source": [
    "mask_part = panorama[pts]\n",
    "a = Image.fromarray(mask_part)\n",
    "a.show()"
   ]
  },
  {
   "cell_type": "code",
   "execution_count": null,
   "metadata": {},
   "outputs": [],
   "source": [
    "import cv2\n",
    "import numpy as np\n",
    "\n",
    "# 假设 img 是你的原始图像，mask 是你的掩膜\n",
    "# 这里用随机数据代替，你需要用实际的图像和掩膜替换它们\n",
    "img = np.random.randint(0, 255, (500, 500, 3), dtype=np.uint8)\n",
    "mask = np.random.randint(0, 2, (500, 500), dtype=np.uint8)\n",
    "\n",
    "# 仅在掩膜不为 0 的区域保留原始图像\n",
    "result = img * mask[:, :, np.newaxis]\n",
    "\n",
    "# 显示原始图像、掩膜和处理后的图像\n",
    "cv2.imshow(\"Original Image\", img)\n",
    "cv2.imshow(\"Mask\", mask * 255)  # 乘以 255 以便显示为白色区域\n",
    "cv2.imshow(\"Result\", result)\n",
    "cv2.waitKey(0)\n",
    "cv2.destroyAllWindows()\n"
   ]
  }
 ],
 "metadata": {
  "kernelspec": {
   "display_name": "test",
   "language": "python",
   "name": "python3"
  },
  "language_info": {
   "codemirror_mode": {
    "name": "ipython",
    "version": 3
   },
   "file_extension": ".py",
   "mimetype": "text/x-python",
   "name": "python",
   "nbconvert_exporter": "python",
   "pygments_lexer": "ipython3",
   "version": "3.10.12"
  }
 },
 "nbformat": 4,
 "nbformat_minor": 2
}
