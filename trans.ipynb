{
 "cells": [
  {
   "cell_type": "code",
   "execution_count": 6,
   "metadata": {},
   "outputs": [
    {
     "data": {
      "text/plain": [
       "True"
      ]
     },
     "execution_count": 6,
     "metadata": {},
     "output_type": "execute_result"
    }
   ],
   "source": [
    "#用来切除黑边\n",
    "from utils import crop_black_borders\n",
    "import cv2\n",
    "image = cv2.imread(r\"images\\1123_878_631_2.png\",cv2.COLOR_BGR2GRAY)\n",
    "real_img = crop_black_borders(image)\n",
    "cv2.imwrite(r\"images\\1123_878_631_2cut.png\",real_img)"
   ]
  },
  {
   "cell_type": "code",
   "execution_count": 8,
   "metadata": {},
   "outputs": [
    {
     "data": {
      "text/plain": [
       "(3039, 4231, 3)"
      ]
     },
     "execution_count": 8,
     "metadata": {},
     "output_type": "execute_result"
    }
   ],
   "source": [
    "image = cv2.imread(r\"images\\222_2.png\",cv2.COLOR_BGR2GRAY)\n",
    "image.shape"
   ]
  },
  {
   "cell_type": "code",
   "execution_count": null,
   "metadata": {},
   "outputs": [],
   "source": [
    "#用来进行通道数的转换\n",
    "import cv2\n",
    "import numpy as np\n",
    "\n",
    "def convert_channels(image_path, target_channels):\n",
    "    # 读取图像\n",
    "    original_image = cv2.imread(image_path)\n",
    "\n",
    "    # 根据目标通道数进行转换\n",
    "    if target_channels == 4:\n",
    "        # 添加一个透明度通道\n",
    "        image = cv2.cvtColor(original_image, cv2.COLOR_BGR2BGRA)\n",
    "    elif target_channels == 3:\n",
    "        # 保留前3个通道\n",
    "        image = original_image[:, :, :3]\n",
    "    elif target_channels == 1:\n",
    "        # 转为灰度图\n",
    "        image = cv2.cvtColor(original_image, cv2.COLOR_BGR2GRAY)\n",
    "    elif target_channels == 2:\n",
    "        # 转为二值化图\n",
    "        gray_image = cv2.cvtColor(original_image, cv2.COLOR_BGR2GRAY)\n",
    "        _, image = cv2.threshold(gray_image, 128, 255, cv2.THRESH_BINARY)\n",
    "\n",
    "    # 显示和保存结果\n",
    "    cv2.imshow(\"Converted Image\", image)\n",
    "    cv2.waitKey(0)\n",
    "    cv2.destroyAllWindows()\n",
    "    cv2.imwrite(f\"converted_image_{target_channels}_channels.jpg\", image)\n",
    "\n",
    "# 调用函数并传入图像路径和目标通道数\n",
    "image_path = \"path/to/your/image.jpg\"\n",
    "target_channels = 4  # 选择 4, 3, 1, 2 中的一个\n",
    "\n",
    "convert_channels(image_path, target_channels)"
   ]
  },
  {
   "cell_type": "code",
   "execution_count": 2,
   "metadata": {},
   "outputs": [
    {
     "data": {
      "text/plain": [
       "True"
      ]
     },
     "execution_count": 2,
     "metadata": {},
     "output_type": "execute_result"
    }
   ],
   "source": [
    "#二值化图像\n",
    "import cv2\n",
    "\n",
    "# 读取图像\n",
    "image = cv2.imread(r'image_equv\\e2.png', cv2.IMREAD_GRAYSCALE)\n",
    "\n",
    "# 设定阈值进行二值化处理\n",
    "_, binary_image = cv2.threshold(image, 128, 255, cv2.THRESH_BINARY)\n",
    "\n",
    "# 显示原始图像和二值化图像（可选）\n",
    "cv2.imshow('Original Image', image)\n",
    "cv2.imshow('Binary Image', binary_image)\n",
    "cv2.waitKey(0)\n",
    "cv2.destroyAllWindows()\n",
    "\n",
    "# 保存二值化图像（可选）\n",
    "cv2.imwrite(r'image_equv\\2e2.png', binary_image)\n"
   ]
  },
  {
   "cell_type": "code",
   "execution_count": 4,
   "metadata": {},
   "outputs": [],
   "source": [
    "import os\n",
    "\n",
    "def add_prefix_to_images(folder_path, prefix):\n",
    "    # 获取文件夹内所有文件\n",
    "    files = os.listdir(folder_path)\n",
    "\n",
    "    # 遍历文件夹内的每个文件\n",
    "    for file in files:\n",
    "        # 构建文件的完整路径\n",
    "        file_path = os.path.join(folder_path, file)\n",
    "\n",
    "        # 检查文件是否是图片文件（可以根据实际需要修改判断条件）\n",
    "        if file.lower().endswith(('.png', '.jpg', '.jpeg', '.gif')):\n",
    "            # 构建新的文件名，加上指定的前缀\n",
    "            new_file_name = prefix + file\n",
    "\n",
    "            # 构建新的文件路径\n",
    "            new_file_path = os.path.join(folder_path, new_file_name)\n",
    "\n",
    "            # 重命名文件\n",
    "            os.rename(file_path, new_file_path)\n",
    "\n",
    "# 替换以下路径为你的文件夹路径\n",
    "folder_path = 'image_user'\n",
    "# 替换以下前缀为你想要添加的前缀\n",
    "prefix = 'u'\n",
    "\n",
    "# 调用函数\n",
    "add_prefix_to_images(folder_path, prefix)\n"
   ]
  }
 ],
 "metadata": {
  "kernelspec": {
   "display_name": "test",
   "language": "python",
   "name": "python3"
  },
  "language_info": {
   "codemirror_mode": {
    "name": "ipython",
    "version": 3
   },
   "file_extension": ".py",
   "mimetype": "text/x-python",
   "name": "python",
   "nbconvert_exporter": "python",
   "pygments_lexer": "ipython3",
   "version": "3.10.12"
  }
 },
 "nbformat": 4,
 "nbformat_minor": 2
}
