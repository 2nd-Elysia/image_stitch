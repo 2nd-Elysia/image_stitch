{
 "cells": [
  {
   "cell_type": "code",
   "execution_count": 1,
   "metadata": {},
   "outputs": [
    {
     "data": {
      "text/plain": [
       "True"
      ]
     },
     "execution_count": 1,
     "metadata": {},
     "output_type": "execute_result"
    }
   ],
   "source": [
    "#用来切除黑边\n",
    "from utils import crop_black_borders\n",
    "import cv2\n",
    "image = cv2.imread(r\"images\\1330_1123_878_631_2.png\",cv2.COLOR_BGR2GRAY)\n",
    "real_img = crop_black_borders(image)\n",
    "cv2.imwrite(r\"images\\1330_1123_878_631_2_cropped.png\",real_img)"
   ]
  },
  {
   "cell_type": "code",
   "execution_count": null,
   "metadata": {},
   "outputs": [],
   "source": [
    "#用来进行通道数的转换\n",
    "import cv2\n",
    "import numpy as np\n",
    "\n",
    "def convert_channels(image_path, target_channels):\n",
    "    # 读取图像\n",
    "    original_image = cv2.imread(image_path)\n",
    "\n",
    "    # 根据目标通道数进行转换\n",
    "    if target_channels == 4:\n",
    "        # 添加一个透明度通道\n",
    "        image = cv2.cvtColor(original_image, cv2.COLOR_BGR2BGRA)\n",
    "    elif target_channels == 3:\n",
    "        # 保留前3个通道\n",
    "        image = original_image[:, :, :3]\n",
    "    elif target_channels == 1:\n",
    "        # 转为灰度图\n",
    "        image = cv2.cvtColor(original_image, cv2.COLOR_BGR2GRAY)\n",
    "    elif target_channels == 2:\n",
    "        # 转为二值化图\n",
    "        gray_image = cv2.cvtColor(original_image, cv2.COLOR_BGR2GRAY)\n",
    "        _, image = cv2.threshold(gray_image, 128, 255, cv2.THRESH_BINARY)\n",
    "\n",
    "    # 显示和保存结果\n",
    "    cv2.imshow(\"Converted Image\", image)\n",
    "    cv2.waitKey(0)\n",
    "    cv2.destroyAllWindows()\n",
    "    cv2.imwrite(f\"converted_image_{target_channels}_channels.jpg\", image)\n",
    "\n",
    "# 调用函数并传入图像路径和目标通道数\n",
    "image_path = \"path/to/your/image.jpg\"\n",
    "target_channels = 4  # 选择 4, 3, 1, 2 中的一个\n",
    "\n",
    "convert_channels(image_path, target_channels)\n"
   ]
  }
 ],
 "metadata": {
  "kernelspec": {
   "display_name": "test",
   "language": "python",
   "name": "python3"
  },
  "language_info": {
   "codemirror_mode": {
    "name": "ipython",
    "version": 3
   },
   "file_extension": ".py",
   "mimetype": "text/x-python",
   "name": "python",
   "nbconvert_exporter": "python",
   "pygments_lexer": "ipython3",
   "version": "3.10.12"
  }
 },
 "nbformat": 4,
 "nbformat_minor": 2
}
