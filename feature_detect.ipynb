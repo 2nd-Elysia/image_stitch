{
 "cells": [
  {
   "cell_type": "code",
   "execution_count": 16,
   "metadata": {},
   "outputs": [
    {
     "name": "stdout",
     "output_type": "stream",
     "text": [
      "图像大小: 595 x 262\n",
      "通道数: 2\n",
      "SIFT特征点数: 1215\n",
      "分辨率: (595, 262)\n"
     ]
    }
   ],
   "source": [
    "import cv2\n",
    "\n",
    "def extract_image_info(image_path):\n",
    "    # 读取图像\n",
    "    image = cv2.imread(image_path,cv2.IMREAD_GRAYSCALE)\n",
    "\n",
    "    # 获取图像大小\n",
    "    height, width = image.shape[:2]\n",
    "\n",
    "    # 获取通道数\n",
    "    channels = image.ndim\n",
    "\n",
    "\n",
    "    # 使用SIFT算法获取特征点\n",
    "    # gray_image = cv2.cvtColor(image)\n",
    "    sift = cv2.SIFT_create()\n",
    "    keypoints, descriptors = sift.detectAndCompute(image, None)\n",
    "    num_keypoints = len(keypoints)\n",
    "\n",
    "    # 获取分辨率\n",
    "    resolution = (width, height)\n",
    "\n",
    "    # 输出信息\n",
    "    print(f\"图像大小: {width} x {height}\")\n",
    "    print(f\"通道数: {channels}\")\n",
    "    print(f\"SIFT特征点数: {num_keypoints}\")\n",
    "    print(f\"分辨率: {resolution}\")\n",
    "\n",
    "# 调用函数并传入图像路径\n",
    "image_path = r\"image_equv\\e1_e2.png\"\n",
    "extract_image_info(image_path)"
   ]
  }
 ],
 "metadata": {
  "kernelspec": {
   "display_name": "test",
   "language": "python",
   "name": "python3"
  },
  "language_info": {
   "codemirror_mode": {
    "name": "ipython",
    "version": 3
   },
   "file_extension": ".py",
   "mimetype": "text/x-python",
   "name": "python",
   "nbconvert_exporter": "python",
   "pygments_lexer": "ipython3",
   "version": "3.10.12"
  }
 },
 "nbformat": 4,
 "nbformat_minor": 2
}
