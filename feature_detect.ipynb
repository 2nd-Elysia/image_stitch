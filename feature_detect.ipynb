{
 "cells": [
  {
   "cell_type": "code",
   "execution_count": 5,
   "metadata": {},
   "outputs": [
    {
     "ename": "error",
     "evalue": "OpenCV(4.8.0) d:\\a\\opencv-python\\opencv-python\\opencv\\modules\\imgproc\\src\\color.simd_helpers.hpp:92: error: (-2:Unspecified error) in function '__cdecl cv::impl::`anonymous-namespace'::CvtHelper<struct cv::impl::`anonymous namespace'::Set<3,4,-1>,struct cv::impl::A0x192ee1e6::Set<1,-1,-1>,struct cv::impl::A0x192ee1e6::Set<0,2,5>,3>::CvtHelper(const class cv::_InputArray &,const class cv::_OutputArray &,int)'\n> Invalid number of channels in input image:\n>     'VScn::contains(scn)'\n> where\n>     'scn' is 1\n",
     "output_type": "error",
     "traceback": [
      "\u001b[1;31m---------------------------------------------------------------------------\u001b[0m",
      "\u001b[1;31merror\u001b[0m                                     Traceback (most recent call last)",
      "\u001b[1;32md:\\桌面\\image_stitch\\feature_detect.ipynb 单元格 1\u001b[0m line \u001b[0;36m3\n\u001b[0;32m     <a href='vscode-notebook-cell:/d%3A/%E6%A1%8C%E9%9D%A2/image_stitch/feature_detect.ipynb#W0sZmlsZQ%3D%3D?line=28'>29</a>\u001b[0m \u001b[39m# 调用函数并传入图像路径\u001b[39;00m\n\u001b[0;32m     <a href='vscode-notebook-cell:/d%3A/%E6%A1%8C%E9%9D%A2/image_stitch/feature_detect.ipynb#W0sZmlsZQ%3D%3D?line=29'>30</a>\u001b[0m image_path \u001b[39m=\u001b[39m \u001b[39mr\u001b[39m\u001b[39m\"\u001b[39m\u001b[39mimage_cap\u001b[39m\u001b[39m\\\u001b[39m\u001b[39m1_2.png\u001b[39m\u001b[39m\"\u001b[39m\n\u001b[1;32m---> <a href='vscode-notebook-cell:/d%3A/%E6%A1%8C%E9%9D%A2/image_stitch/feature_detect.ipynb#W0sZmlsZQ%3D%3D?line=30'>31</a>\u001b[0m extract_image_info(image_path)\n",
      "\u001b[1;32md:\\桌面\\image_stitch\\feature_detect.ipynb 单元格 1\u001b[0m line \u001b[0;36m1\n\u001b[0;32m     <a href='vscode-notebook-cell:/d%3A/%E6%A1%8C%E9%9D%A2/image_stitch/feature_detect.ipynb#W0sZmlsZQ%3D%3D?line=11'>12</a>\u001b[0m num_channels \u001b[39m=\u001b[39m \u001b[39mlen\u001b[39m(channels)\n\u001b[0;32m     <a href='vscode-notebook-cell:/d%3A/%E6%A1%8C%E9%9D%A2/image_stitch/feature_detect.ipynb#W0sZmlsZQ%3D%3D?line=13'>14</a>\u001b[0m \u001b[39m# 使用SIFT算法获取特征点\u001b[39;00m\n\u001b[1;32m---> <a href='vscode-notebook-cell:/d%3A/%E6%A1%8C%E9%9D%A2/image_stitch/feature_detect.ipynb#W0sZmlsZQ%3D%3D?line=14'>15</a>\u001b[0m gray_image \u001b[39m=\u001b[39m cv2\u001b[39m.\u001b[39;49mcvtColor(image, cv2\u001b[39m.\u001b[39;49mCOLOR_BGR2GRAY)\n\u001b[0;32m     <a href='vscode-notebook-cell:/d%3A/%E6%A1%8C%E9%9D%A2/image_stitch/feature_detect.ipynb#W0sZmlsZQ%3D%3D?line=15'>16</a>\u001b[0m sift \u001b[39m=\u001b[39m cv2\u001b[39m.\u001b[39mSIFT_create()\n\u001b[0;32m     <a href='vscode-notebook-cell:/d%3A/%E6%A1%8C%E9%9D%A2/image_stitch/feature_detect.ipynb#W0sZmlsZQ%3D%3D?line=16'>17</a>\u001b[0m keypoints, descriptors \u001b[39m=\u001b[39m sift\u001b[39m.\u001b[39mdetectAndCompute(gray_image, \u001b[39mNone\u001b[39;00m)\n",
      "\u001b[1;31merror\u001b[0m: OpenCV(4.8.0) d:\\a\\opencv-python\\opencv-python\\opencv\\modules\\imgproc\\src\\color.simd_helpers.hpp:92: error: (-2:Unspecified error) in function '__cdecl cv::impl::`anonymous-namespace'::CvtHelper<struct cv::impl::`anonymous namespace'::Set<3,4,-1>,struct cv::impl::A0x192ee1e6::Set<1,-1,-1>,struct cv::impl::A0x192ee1e6::Set<0,2,5>,3>::CvtHelper(const class cv::_InputArray &,const class cv::_OutputArray &,int)'\n> Invalid number of channels in input image:\n>     'VScn::contains(scn)'\n> where\n>     'scn' is 1\n"
     ]
    }
   ],
   "source": [
    "import cv2\n",
    "\n",
    "def extract_image_info(image_path):\n",
    "    # 读取图像\n",
    "    image = cv2.imread(image_path,cv2.IMREAD_GRAYSCALE)\n",
    "\n",
    "    # 获取图像大小\n",
    "    height, width = image.shape[:2]\n",
    "\n",
    "    # 获取通道数\n",
    "    channels = cv2.split(image)\n",
    "    num_channels = len(channels)\n",
    "\n",
    "    # 使用SIFT算法获取特征点\n",
    "    gray_image = cv2.cvtColor(image, cv2.COLOR_BGR2GRAY)\n",
    "    sift = cv2.SIFT_create()\n",
    "    keypoints, descriptors = sift.detectAndCompute(gray_image, None)\n",
    "    num_keypoints = len(keypoints)\n",
    "\n",
    "    # 获取分辨率\n",
    "    resolution = (width, height)\n",
    "\n",
    "    # 输出信息\n",
    "    print(f\"图像大小: {width} x {height}\")\n",
    "    print(f\"通道数: {num_channels}\")\n",
    "    print(f\"SIFT特征点数: {num_keypoints}\")\n",
    "    print(f\"分辨率: {resolution}\")\n",
    "\n",
    "# 调用函数并传入图像路径\n",
    "image_path = r\"image_cap\\1_2.png\"\n",
    "extract_image_info(image_path)"
   ]
  }
 ],
 "metadata": {
  "kernelspec": {
   "display_name": "test",
   "language": "python",
   "name": "python3"
  },
  "language_info": {
   "codemirror_mode": {
    "name": "ipython",
    "version": 3
   },
   "file_extension": ".py",
   "mimetype": "text/x-python",
   "name": "python",
   "nbconvert_exporter": "python",
   "pygments_lexer": "ipython3",
   "version": "3.10.12"
  }
 },
 "nbformat": 4,
 "nbformat_minor": 2
}
